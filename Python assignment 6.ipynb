{
 "cells": [
  {
   "cell_type": "markdown",
   "metadata": {},
   "source": [
    "1. What are escape characters, and how do you use them?\n",
    "\n",
    "\n",
    "    Escape characters represent characters in string values that would otherwise be difficult or impossible to type into\n",
    "    code.\n",
    "\n",
    "\n",
    "\n"
   ]
  },
  {
   "cell_type": "markdown",
   "metadata": {},
   "source": [
    "2. What do the escape characters n and t stand for?\n",
    "\n",
    "\n",
    "    \\n is a new line and \\t is a tab"
   ]
  },
  {
   "cell_type": "markdown",
   "metadata": {},
   "source": [
    "3. What is the way to include backslash characters in a string?\n",
    "\n",
    "\n",
    "    The \\\\ escape character will represent a backslash character.\n",
    "\n"
   ]
  },
  {
   "cell_type": "markdown",
   "metadata": {},
   "source": [
    "4. The string \"Howl's Moving Castle\" is a correct value. Why isn't the single quote character in the\n",
    "   word Howl's not escaped a problem?\n",
    "\n",
    "\n",
    "    The single quote in Howl's is fine because double quotes to mark the beginning and end of the string.\n",
    "\n"
   ]
  },
  {
   "cell_type": "markdown",
   "metadata": {},
   "source": [
    "5. How do you write a string of newlines if you don't want to use the n character?\n",
    "\n",
    "    Multiline strings allow you to use newlines in strings without the \\n escape character.\n",
    "\n",
    "\n",
    "\n",
    "    "
   ]
  },
  {
   "cell_type": "markdown",
   "metadata": {},
   "source": [
    "6. What are the values of the given expressions?\n",
    "    'Hello, world!'[1]\n",
    "    'Hello, world!'[0:5]\n",
    "    'Hello, world!'[:5]\n",
    "    'Hello, world!'[3:]\n",
    "    \n",
    "    \n",
    "    'e'\n",
    "    'Hello'\n",
    "    'Hello'\n",
    "    'lo world!'"
   ]
  },
  {
   "cell_type": "markdown",
   "metadata": {},
   "source": [
    "7. What are the values of the following expressions?\n",
    "    'Hello'.upper()\n",
    "    'Hello'.upper().isupper()\n",
    "    'Hello'.upper().lower()\n",
    "    \n",
    "    'HELLO'\n",
    "    \n",
    "    True\n",
    "    \n",
    "    'hello'"
   ]
  },
  {
   "cell_type": "markdown",
   "metadata": {},
   "source": [
    "8. What are the values of the following expressions?\n",
    "    'Remember, remember, the fifth of July.'.split()\n",
    "    '-'.join('There can only one.'.split())\n",
    "    \n",
    "    \n",
    "    ['Remember,', 'remember,', 'the', 'fifth', 'of', 'July.']\n",
    "    \n",
    "    \n",
    "    'There-can-only-one.'"
   ]
  },
  {
   "cell_type": "markdown",
   "metadata": {},
   "source": [
    "9. What are the methods for right-justifying, left-justifying, and centering a string?\n",
    "\n",
    "\n",
    "    The rjust(), ljust(), and center() string methods.\n",
    "\n",
    "\n",
    "    "
   ]
  },
  {
   "cell_type": "markdown",
   "metadata": {},
   "source": [
    "10. What is the best way to remove whitespace characters from the start or end?\n",
    "\n",
    "    The lstrip() and rstrip() methods remove whitespace from the left and right ends of a string.\n",
    "\n"
   ]
  },
  {
   "cell_type": "code",
   "execution_count": null,
   "metadata": {},
   "outputs": [],
   "source": []
  }
 ],
 "metadata": {
  "kernelspec": {
   "display_name": "Python 3",
   "language": "python",
   "name": "python3"
  },
  "language_info": {
   "codemirror_mode": {
    "name": "ipython",
    "version": 3
   },
   "file_extension": ".py",
   "mimetype": "text/x-python",
   "name": "python",
   "nbconvert_exporter": "python",
   "pygments_lexer": "ipython3",
   "version": "3.7.1"
  }
 },
 "nbformat": 4,
 "nbformat_minor": 2
}
